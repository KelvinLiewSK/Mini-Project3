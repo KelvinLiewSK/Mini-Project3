{
 "cells": [
  {
   "cell_type": "markdown",
   "metadata": {
    "id": "4CyIxbP1n8sT"
   },
   "source": [
    "# Goal of this notebook:\n",
    "    \n",
    "* Use Pushshift API to collect 2 subreddits category: **travel**  and **makeup**\n",
    "* Save the collected data into csv files"
   ]
  },
  {
   "cell_type": "code",
   "execution_count": 1,
   "metadata": {
    "id": "gVn8-0NYnsJR"
   },
   "outputs": [],
   "source": [
    "import requests\n",
    "import pandas as pd\n",
    "import time"
   ]
  },
  {
   "cell_type": "markdown",
   "metadata": {
    "id": "cYgEyJ6ZoSkh"
   },
   "source": [
    "# Data Scraping\n",
    "we will create a python function that will consume the pushshift api to grab data from reddit."
   ]
  },
  {
   "cell_type": "code",
   "execution_count": 2,
   "metadata": {
    "id": "O6NXZappoPnh"
   },
   "outputs": [],
   "source": [
    "def scrap_reddit(subreddit):\n",
    "    # set the base url that we will send http request to\n",
    "    url = 'https://api.pushshift.io/reddit/search/submission'\n",
    "    # prepare the requets payload\n",
    "    params = {\n",
    "        'subreddit': subreddit,\n",
    "        'size' : 100,\n",
    "        'before': None\n",
    "    }\n",
    "\n",
    "    df_buffer = []\n",
    "    for i in range(15):\n",
    "        # send the http request to scrape the data\n",
    "        results = requests.get(url,params)\n",
    "        data = results.json()['data']\n",
    "\n",
    "        # process the json object and create a new dataframe\n",
    "        df_tmp = pd.DataFrame(data)\n",
    "        df_buffer.append(df_tmp)\n",
    "        try:\n",
    "          params['before'] = df_tmp['created_utc'][99]\n",
    "          df = pd.concat(df_buffer, ignore_index = True)\n",
    "          df.to_csv(f'{subreddit}.csv')\n",
    "          time.sleep(10)\n",
    "          print(f'Iterations {i+1} completed..')\n",
    "        except:\n",
    "          print('there was an exception with the scraping process..')\n"
   ]
  },
  {
   "cell_type": "markdown",
   "metadata": {
    "id": "ZSsb97LIqccm"
   },
   "source": [
    "# Scraping Travle Subreddit"
   ]
  },
  {
   "cell_type": "code",
   "execution_count": 3,
   "metadata": {
    "colab": {
     "base_uri": "https://localhost:8080/"
    },
    "id": "g11bFk9kqTot",
    "outputId": "2bf39cb1-8fa4-47a6-f68f-5f6968d8a48d"
   },
   "outputs": [
    {
     "name": "stdout",
     "output_type": "stream",
     "text": [
      "Iterations 1 completed..\n",
      "Iterations 2 completed..\n",
      "Iterations 3 completed..\n",
      "Iterations 4 completed..\n",
      "Iterations 5 completed..\n",
      "Iterations 6 completed..\n",
      "Iterations 7 completed..\n",
      "Iterations 8 completed..\n",
      "Iterations 9 completed..\n",
      "Iterations 10 completed..\n",
      "Iterations 11 completed..\n",
      "Iterations 12 completed..\n",
      "Iterations 13 completed..\n",
      "Iterations 14 completed..\n",
      "Iterations 15 completed..\n"
     ]
    }
   ],
   "source": [
    "# call the built function we've created above\n",
    "scrap_reddit('travel')"
   ]
  },
  {
   "cell_type": "markdown",
   "metadata": {
    "id": "grI5fvu8rl5H"
   },
   "source": [
    "# Scraping Makeup subreddit"
   ]
  },
  {
   "cell_type": "code",
   "execution_count": 4,
   "metadata": {
    "colab": {
     "base_uri": "https://localhost:8080/"
    },
    "id": "0Fk3cH82qngC",
    "outputId": "dc9d51b5-1576-4694-91b4-7d98cffa95c5"
   },
   "outputs": [
    {
     "name": "stdout",
     "output_type": "stream",
     "text": [
      "Iterations 1 completed..\n",
      "Iterations 2 completed..\n",
      "Iterations 3 completed..\n",
      "Iterations 4 completed..\n",
      "Iterations 5 completed..\n",
      "Iterations 6 completed..\n",
      "Iterations 7 completed..\n",
      "Iterations 8 completed..\n",
      "Iterations 9 completed..\n",
      "Iterations 10 completed..\n",
      "Iterations 11 completed..\n",
      "Iterations 12 completed..\n",
      "Iterations 13 completed..\n",
      "Iterations 14 completed..\n",
      "Iterations 15 completed..\n"
     ]
    }
   ],
   "source": [
    "# call the built function we've created above\n",
    "scrap_reddit('makeup')"
   ]
  },
  {
   "cell_type": "markdown",
   "metadata": {
    "id": "QumBXcBpsomr"
   },
   "source": [
    "## Checking the data we have scraped"
   ]
  },
  {
   "cell_type": "code",
   "execution_count": 5,
   "metadata": {
    "id": "8YN2YJMUrtTl"
   },
   "outputs": [],
   "source": [
    "travel_df = pd.read_csv(\"travel.csv\")\n",
    "makeup_df = pd.read_csv(\"makeup.csv\")"
   ]
  },
  {
   "cell_type": "markdown",
   "metadata": {
    "id": "ZrQfUTROtQGz"
   },
   "source": [
    "### Travel subreddit"
   ]
  },
  {
   "cell_type": "code",
   "execution_count": 6,
   "metadata": {
    "colab": {
     "base_uri": "https://localhost:8080/"
    },
    "id": "boMKav3Js2qr",
    "outputId": "a9515d17-521d-424e-f156-a9b9c62bcf73"
   },
   "outputs": [
    {
     "name": "stdout",
     "output_type": "stream",
     "text": [
      "<class 'pandas.core.frame.DataFrame'>\n",
      "RangeIndex: 1500 entries, 0 to 1499\n",
      "Data columns (total 86 columns):\n",
      " #   Column                         Non-Null Count  Dtype  \n",
      "---  ------                         --------------  -----  \n",
      " 0   Unnamed: 0                     1500 non-null   int64  \n",
      " 1   all_awardings                  1500 non-null   object \n",
      " 2   allow_live_comments            1500 non-null   bool   \n",
      " 3   author                         1500 non-null   object \n",
      " 4   author_flair_css_class         27 non-null     object \n",
      " 5   author_flair_richtext          1492 non-null   object \n",
      " 6   author_flair_text              27 non-null     object \n",
      " 7   author_flair_type              1492 non-null   object \n",
      " 8   author_fullname                1492 non-null   object \n",
      " 9   author_is_blocked              1500 non-null   bool   \n",
      " 10  author_patreon_flair           1492 non-null   object \n",
      " 11  author_premium                 1492 non-null   object \n",
      " 12  awarders                       1500 non-null   object \n",
      " 13  can_mod_post                   1500 non-null   bool   \n",
      " 14  contest_mode                   1500 non-null   bool   \n",
      " 15  created_utc                    1500 non-null   int64  \n",
      " 16  domain                         1500 non-null   object \n",
      " 17  full_link                      1500 non-null   object \n",
      " 18  gildings                       1500 non-null   object \n",
      " 19  id                             1500 non-null   object \n",
      " 20  is_created_from_ads_ui         1500 non-null   bool   \n",
      " 21  is_crosspostable               1500 non-null   bool   \n",
      " 22  is_meta                        1500 non-null   bool   \n",
      " 23  is_original_content            1500 non-null   bool   \n",
      " 24  is_reddit_media_domain         1500 non-null   bool   \n",
      " 25  is_robot_indexable             1500 non-null   bool   \n",
      " 26  is_self                        1500 non-null   bool   \n",
      " 27  is_video                       1500 non-null   bool   \n",
      " 28  link_flair_background_color    0 non-null      float64\n",
      " 29  link_flair_richtext            1500 non-null   object \n",
      " 30  link_flair_text_color          1500 non-null   object \n",
      " 31  link_flair_type                1500 non-null   object \n",
      " 32  locked                         1500 non-null   bool   \n",
      " 33  media_only                     1500 non-null   bool   \n",
      " 34  no_follow                      1500 non-null   bool   \n",
      " 35  num_comments                   1500 non-null   int64  \n",
      " 36  num_crossposts                 1500 non-null   int64  \n",
      " 37  over_18                        1500 non-null   bool   \n",
      " 38  parent_whitelist_status        1500 non-null   object \n",
      " 39  permalink                      1500 non-null   object \n",
      " 40  pinned                         1500 non-null   bool   \n",
      " 41  pwls                           1500 non-null   int64  \n",
      " 42  removed_by_category            1034 non-null   object \n",
      " 43  retrieved_on                   1500 non-null   int64  \n",
      " 44  score                          1500 non-null   int64  \n",
      " 45  selftext                       973 non-null    object \n",
      " 46  send_replies                   1500 non-null   bool   \n",
      " 47  spoiler                        1500 non-null   bool   \n",
      " 48  stickied                       1500 non-null   bool   \n",
      " 49  subreddit                      1500 non-null   object \n",
      " 50  subreddit_id                   1500 non-null   object \n",
      " 51  subreddit_subscribers          1500 non-null   int64  \n",
      " 52  subreddit_type                 1500 non-null   object \n",
      " 53  thumbnail                      1500 non-null   object \n",
      " 54  title                          1500 non-null   object \n",
      " 55  total_awards_received          1500 non-null   int64  \n",
      " 56  treatment_tags                 1500 non-null   object \n",
      " 57  upvote_ratio                   1500 non-null   float64\n",
      " 58  url                            1500 non-null   object \n",
      " 59  whitelist_status               1500 non-null   object \n",
      " 60  wls                            1500 non-null   int64  \n",
      " 61  link_flair_css_class           1053 non-null   object \n",
      " 62  link_flair_template_id         699 non-null    object \n",
      " 63  link_flair_text                1057 non-null   object \n",
      " 64  post_hint                      338 non-null    object \n",
      " 65  preview                        338 non-null    object \n",
      " 66  thumbnail_height               478 non-null    float64\n",
      " 67  thumbnail_width                478 non-null    float64\n",
      " 68  url_overridden_by_dest         531 non-null    object \n",
      " 69  is_gallery                     149 non-null    object \n",
      " 70  media                          97 non-null     object \n",
      " 71  media_embed                    96 non-null     object \n",
      " 72  secure_media                   97 non-null     object \n",
      " 73  secure_media_embed             96 non-null     object \n",
      " 74  author_flair_background_color  0 non-null      float64\n",
      " 75  author_flair_text_color        35 non-null     object \n",
      " 76  author_flair_template_id       21 non-null     object \n",
      " 77  call_to_action                 0 non-null      float64\n",
      " 78  category                       0 non-null      float64\n",
      " 79  crosspost_parent               28 non-null     object \n",
      " 80  crosspost_parent_list          28 non-null     object \n",
      " 81  banned_by                      1 non-null      object \n",
      " 82  media_metadata                 5 non-null      object \n",
      " 83  author_cakeday                 2 non-null      object \n",
      " 84  gallery_data                   1 non-null      object \n",
      " 85  edited                         1 non-null      float64\n",
      "dtypes: bool(20), float64(8), int64(10), object(48)\n",
      "memory usage: 802.9+ KB\n"
     ]
    }
   ],
   "source": [
    "travel_df.info()"
   ]
  },
  {
   "cell_type": "code",
   "execution_count": 7,
   "metadata": {
    "colab": {
     "base_uri": "https://localhost:8080/"
    },
    "id": "kHYxDPiEs5GE",
    "outputId": "091391d7-cbf7-44ca-e444-12c96d42590c"
   },
   "outputs": [
    {
     "name": "stdout",
     "output_type": "stream",
     "text": [
      "we have exactly 1500 rows and 86 column in our dataframe\n"
     ]
    }
   ],
   "source": [
    "print(f\"we have exactly {len(travel_df)} rows and {travel_df.shape[1]} column in our dataframe\")"
   ]
  },
  {
   "cell_type": "markdown",
   "metadata": {
    "id": "Fyv6hqu9tTPl"
   },
   "source": [
    "### Makeup subreddit"
   ]
  },
  {
   "cell_type": "code",
   "execution_count": 8,
   "metadata": {
    "colab": {
     "base_uri": "https://localhost:8080/"
    },
    "id": "jTDljk8qtNnh",
    "outputId": "b05898b4-809a-4852-b0f0-e741d8b6731c"
   },
   "outputs": [
    {
     "name": "stdout",
     "output_type": "stream",
     "text": [
      "<class 'pandas.core.frame.DataFrame'>\n",
      "RangeIndex: 1500 entries, 0 to 1499\n",
      "Data columns (total 73 columns):\n",
      " #   Column                       Non-Null Count  Dtype  \n",
      "---  ------                       --------------  -----  \n",
      " 0   Unnamed: 0                   1500 non-null   int64  \n",
      " 1   all_awardings                1500 non-null   object \n",
      " 2   allow_live_comments          1500 non-null   bool   \n",
      " 3   author                       1500 non-null   object \n",
      " 4   author_flair_css_class       0 non-null      float64\n",
      " 5   author_flair_richtext        1500 non-null   object \n",
      " 6   author_flair_text            0 non-null      float64\n",
      " 7   author_flair_type            1500 non-null   object \n",
      " 8   author_fullname              1500 non-null   object \n",
      " 9   author_is_blocked            1500 non-null   bool   \n",
      " 10  author_patreon_flair         1500 non-null   bool   \n",
      " 11  author_premium               1500 non-null   bool   \n",
      " 12  awarders                     1500 non-null   object \n",
      " 13  can_mod_post                 1500 non-null   bool   \n",
      " 14  contest_mode                 1500 non-null   bool   \n",
      " 15  created_utc                  1500 non-null   int64  \n",
      " 16  domain                       1500 non-null   object \n",
      " 17  full_link                    1500 non-null   object \n",
      " 18  gildings                     1500 non-null   object \n",
      " 19  id                           1500 non-null   object \n",
      " 20  is_created_from_ads_ui       1500 non-null   bool   \n",
      " 21  is_crosspostable             1500 non-null   bool   \n",
      " 22  is_meta                      1500 non-null   bool   \n",
      " 23  is_original_content          1500 non-null   bool   \n",
      " 24  is_reddit_media_domain       1500 non-null   bool   \n",
      " 25  is_robot_indexable           1500 non-null   bool   \n",
      " 26  is_self                      1500 non-null   bool   \n",
      " 27  is_video                     1500 non-null   bool   \n",
      " 28  link_flair_background_color  0 non-null      float64\n",
      " 29  link_flair_richtext          1500 non-null   object \n",
      " 30  link_flair_text_color        1500 non-null   object \n",
      " 31  link_flair_type              1500 non-null   object \n",
      " 32  locked                       1500 non-null   bool   \n",
      " 33  media_only                   1500 non-null   bool   \n",
      " 34  no_follow                    1500 non-null   bool   \n",
      " 35  num_comments                 1500 non-null   int64  \n",
      " 36  num_crossposts               1500 non-null   int64  \n",
      " 37  over_18                      1500 non-null   bool   \n",
      " 38  parent_whitelist_status      1500 non-null   object \n",
      " 39  permalink                    1500 non-null   object \n",
      " 40  pinned                       1500 non-null   bool   \n",
      " 41  pwls                         1500 non-null   int64  \n",
      " 42  retrieved_on                 1500 non-null   int64  \n",
      " 43  score                        1500 non-null   int64  \n",
      " 44  selftext                     1369 non-null   object \n",
      " 45  send_replies                 1500 non-null   bool   \n",
      " 46  spoiler                      1500 non-null   bool   \n",
      " 47  stickied                     1500 non-null   bool   \n",
      " 48  subreddit                    1500 non-null   object \n",
      " 49  subreddit_id                 1500 non-null   object \n",
      " 50  subreddit_subscribers        1500 non-null   int64  \n",
      " 51  subreddit_type               1500 non-null   object \n",
      " 52  suggested_sort               1500 non-null   object \n",
      " 53  thumbnail                    1500 non-null   object \n",
      " 54  title                        1500 non-null   object \n",
      " 55  total_awards_received        1500 non-null   int64  \n",
      " 56  treatment_tags               1500 non-null   object \n",
      " 57  upvote_ratio                 1500 non-null   float64\n",
      " 58  url                          1500 non-null   object \n",
      " 59  whitelist_status             1500 non-null   object \n",
      " 60  wls                          1500 non-null   int64  \n",
      " 61  post_hint                    143 non-null    object \n",
      " 62  preview                      143 non-null    object \n",
      " 63  link_flair_template_id       630 non-null    object \n",
      " 64  link_flair_text              628 non-null    object \n",
      " 65  removed_by_category          204 non-null    object \n",
      " 66  author_cakeday               5 non-null      object \n",
      " 67  crosspost_parent             7 non-null      object \n",
      " 68  crosspost_parent_list        7 non-null      object \n",
      " 69  url_overridden_by_dest       7 non-null      object \n",
      " 70  thumbnail_height             1 non-null      float64\n",
      " 71  thumbnail_width              1 non-null      float64\n",
      " 72  edited                       1 non-null      float64\n",
      "dtypes: bool(22), float64(7), int64(10), object(34)\n",
      "memory usage: 630.0+ KB\n"
     ]
    }
   ],
   "source": [
    "makeup_df.info()"
   ]
  },
  {
   "cell_type": "code",
   "execution_count": 9,
   "metadata": {
    "colab": {
     "base_uri": "https://localhost:8080/"
    },
    "id": "HSdCdrC2tXmQ",
    "outputId": "c5a75066-8d60-4894-d995-c75c4a6ba663"
   },
   "outputs": [
    {
     "name": "stdout",
     "output_type": "stream",
     "text": [
      "we have exactly 1500 rows and 73 column in our dataframe\n"
     ]
    }
   ],
   "source": [
    "print(f\"we have exactly {len(makeup_df)} rows and {makeup_df.shape[1]} column in our dataframe\")"
   ]
  },
  {
   "cell_type": "code",
   "execution_count": null,
   "metadata": {
    "id": "vIxCEiNFtbcb"
   },
   "outputs": [],
   "source": []
  }
 ],
 "metadata": {
  "colab": {
   "collapsed_sections": [],
   "name": "Reddit web_scraping.ipynb",
   "provenance": []
  },
  "kernelspec": {
   "display_name": "Python 3 (ipykernel)",
   "language": "python",
   "name": "python3"
  },
  "language_info": {
   "codemirror_mode": {
    "name": "ipython",
    "version": 3
   },
   "file_extension": ".py",
   "mimetype": "text/x-python",
   "name": "python",
   "nbconvert_exporter": "python",
   "pygments_lexer": "ipython3",
   "version": "3.9.7"
  }
 },
 "nbformat": 4,
 "nbformat_minor": 1
}
